{
 "cells": [
  {
   "cell_type": "code",
   "execution_count": 1,
   "id": "e840dfdd",
   "metadata": {},
   "outputs": [
    {
     "name": "stderr",
     "output_type": "stream",
     "text": [
      "Rate limit reached. Sleeping for: 255\n"
     ]
    },
    {
     "ename": "IndexError",
     "evalue": "list index out of range",
     "output_type": "error",
     "traceback": [
      "\u001b[1;31m---------------------------------------------------------------------------\u001b[0m",
      "\u001b[1;31mIndexError\u001b[0m                                Traceback (most recent call last)",
      "\u001b[1;32m~\\AppData\\Local\\Temp/ipykernel_25880/814899821.py\u001b[0m in \u001b[0;36m<module>\u001b[1;34m\u001b[0m\n\u001b[0;32m     44\u001b[0m \u001b[1;33m\u001b[0m\u001b[0m\n\u001b[0;32m     45\u001b[0m \u001b[1;31m# 最新ツイートの中身を見る\u001b[0m\u001b[1;33m\u001b[0m\u001b[1;33m\u001b[0m\u001b[0m\n\u001b[1;32m---> 46\u001b[1;33m \u001b[0mdata\u001b[0m\u001b[1;33m[\u001b[0m\u001b[1;36m0\u001b[0m\u001b[1;33m]\u001b[0m\u001b[1;33m.\u001b[0m\u001b[0mtext\u001b[0m\u001b[1;33m\u001b[0m\u001b[1;33m\u001b[0m\u001b[0m\n\u001b[0m",
      "\u001b[1;31mIndexError\u001b[0m: list index out of range"
     ]
    }
   ],
   "source": [
    "# ライブラリのインポート\n",
    "import tweepy\n",
    "import pandas as pd\n",
    "\n",
    "# 取得ツイート数\n",
    "count = 10000\n",
    "\n",
    "def getTweetBySearch(s, since, until):\n",
    "  \n",
    "  result = []\n",
    "  \n",
    "  api = authTwitter() # 認証\n",
    "  \n",
    "  ## vars\n",
    "  sinceDate = since # この日付以降のツイートを取得する\n",
    "  untilDate = until # この日付以前のツイートを取得する\n",
    "  \n",
    "\n",
    "# 検索ワード\n",
    "search_word = 'ワクチン OR オミクロン OR コロナ OR 感染 OR 行動制限 OR 隔離 OR 事態宣言 OR 第7波 since:2022-08-4 until:2022-08-5-filter:retweets'\n",
    "\n",
    "#認証\n",
    "CK = '0DkJ9yXBipE59f8acfsbZu1HI' # Consumer Key\n",
    "CS = '77JPW1utHZVJ1Z6ghBkKcA8D4bj16DSVBz42LhduIyqMRaAUM8' # Consumer Secret\n",
    "AT = '1497870821989425153-kOnrKgY5uGdFDEd2j0JnKLIclRbV5A' # Access Token\n",
    "AS = 'RnXDt2d41RIsFjcw5pBD63VvHRE67GF06xuB7arcUNt6D' # Accesss Token Secert\n",
    "\n",
    "auth = tweepy.OAuthHandler(CK, CS)\n",
    "auth.set_access_token(AT, AS)\n",
    "\n",
    "# インスタンス作成\n",
    "twitter_api = tweepy.API(auth, wait_on_rate_limit=True)\n",
    "\n",
    "# ツイート検索結果を大量取得\n",
    "n = 0\n",
    "data = []\n",
    "\n",
    "for result in tweepy.Cursor(twitter_api.search_tweets, q=search_word).items(count):\n",
    "   n +=1\n",
    "   print('----{}-----'.format(n))\n",
    "   print(result.text)\n",
    "   data.append(result)\n",
    "\n",
    "\n",
    "# 最新ツイートの中身を見る\n",
    "data[0].text"
   ]
  },
  {
   "cell_type": "code",
   "execution_count": null,
   "id": "1968efa4",
   "metadata": {},
   "outputs": [],
   "source": []
  }
 ],
 "metadata": {
  "kernelspec": {
   "display_name": "Python 3 (ipykernel)",
   "language": "python",
   "name": "python3"
  },
  "language_info": {
   "codemirror_mode": {
    "name": "ipython",
    "version": 3
   },
   "file_extension": ".py",
   "mimetype": "text/x-python",
   "name": "python",
   "nbconvert_exporter": "python",
   "pygments_lexer": "ipython3",
   "version": "3.9.7"
  }
 },
 "nbformat": 4,
 "nbformat_minor": 5
}
